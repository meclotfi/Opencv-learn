{
 "cells": [
  {
   "cell_type": "code",
   "execution_count": 2,
   "metadata": {},
   "outputs": [],
   "source": [
    "import cv2 as cv\n",
    "import numpy as np"
   ]
  },
  {
   "cell_type": "code",
   "execution_count": 39,
   "metadata": {},
   "outputs": [],
   "source": [
    "img=cv.imread(\"./images/scan.jpg\")\n",
    "h,w=img.shape[:2]\n",
    "cv.imshow(\"the image\",img)\n",
    "cv.waitKey()\n",
    "cv.destroyAllWindows()"
   ]
  },
  {
   "cell_type": "code",
   "execution_count": 37,
   "metadata": {},
   "outputs": [],
   "source": [
    "gray_img=cv.cvtColor(img,cv.COLOR_BGR2GRAY)\n",
    "canny = cv.Canny(gray_img, 220, 230)\n",
    "cv.imshow('Canny', canny)\n",
    "cv.waitKey(0)\n",
    "cv.destroyAllWindows()"
   ]
  },
  {
   "cell_type": "code",
   "execution_count": 38,
   "metadata": {},
   "outputs": [],
   "source": [
    "rho=1\n",
    "theta=np.pi/180\n",
    "thresh=30\n",
    "min_line_length=100\n",
    "max_line_gap=10\n",
    "\n",
    "lines=cv.HoughLinesP(canny,rho,theta,thresh,np.array([]),min_line_length,max_line_gap)\n",
    "\n",
    "line_img=np.copy(img)\n",
    "#draw all detected lines in the picture\n",
    "for line in lines:\n",
    "    for x1,y1,x2,y2 in line:\n",
    "        cv.line(line_img,(x1,y1),(x2,y2),(255,0,0),5)\n",
    "cv.imshow('lines',line_img)\n",
    "cv.waitKey(0)\n",
    "cv.destroyAllWindows()\n"
   ]
  }
 ],
 "metadata": {
  "kernelspec": {
   "display_name": "Python 3",
   "language": "python",
   "name": "python3"
  },
  "language_info": {
   "codemirror_mode": {
    "name": "ipython",
    "version": 3
   },
   "file_extension": ".py",
   "mimetype": "text/x-python",
   "name": "python",
   "nbconvert_exporter": "python",
   "pygments_lexer": "ipython3",
   "version": "3.7.4"
  }
 },
 "nbformat": 4,
 "nbformat_minor": 2
}
